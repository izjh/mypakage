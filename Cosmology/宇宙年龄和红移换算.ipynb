{
 "cells": [
  {
   "cell_type": "code",
   "execution_count": null,
   "metadata": {},
   "outputs": [],
   "source": [
    "import math\n",
    "#计算红移z处对应的宇宙年龄，单位Myr\n",
    "def Age(z):\n",
    "    return tH*2*math.log((math.sqrt(omega_lambda*((1+z)**(-3)))+math.sqrt(omega_lambda*((1+z)**(-3))+omega_m))/math.sqrt(omega_m))/(3*math.sqrt(omega_lambda))\n",
    "\n",
    "#计算宇宙年龄为t时所对应的红移，注意时间单位为Myr，下式的6.89308e-5是取(1/Myr)为单位时的H0\n",
    "def Redshift(time):\n",
    "    a=math.sqrt(omega_m)*math.exp((6.89308e-5*time*3*math.sqrt(omega_lambda))/2)\n",
    "    return (omega_lambda/(((a**2+omega_m)/(2*a))**2-omega_m))**(1/3)-1"
   ]
  }
 ],
 "metadata": {
  "language_info": {
   "name": "python"
  }
 },
 "nbformat": 4,
 "nbformat_minor": 2
}
