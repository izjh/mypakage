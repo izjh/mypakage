{
 "cells": [
  {
   "cell_type": "code",
   "execution_count": 1,
   "metadata": {},
   "outputs": [],
   "source": [
    "from astropy import units\n",
    "import numpy as np"
   ]
  },
  {
   "cell_type": "code",
   "execution_count": 4,
   "metadata": {},
   "outputs": [],
   "source": [
    "def Omega_all_freq(A_hc,fmax):\n",
    "    H0=70*units.km/units.s/units.Mpc\n",
    "    H0=H0.to(units.s**(-1))\n",
    "    fref=1*units.year**(-1)\n",
    "    fref=fref.to(units.s**(-1))\n",
    "    return (2*np.pi**2/(3*H0**2))*A_hc**2*fref**(4/3)*fmax**(2/3)*3/2"
   ]
  },
  {
   "cell_type": "code",
   "execution_count": 13,
   "metadata": {},
   "outputs": [
    {
     "data": {
      "text/latex": [
       "$9.500693 \\times 10^{-9} \\; \\mathrm{}$"
      ],
      "text/plain": [
       "<Quantity 9.50069296e-09>"
      ]
     },
     "execution_count": 13,
     "metadata": {},
     "output_type": "execute_result"
    }
   ],
   "source": [
    "fmax=10**(-7.6)*units.s**(-1)\n",
    "# fmax=fmax.to(units.yr**(-1))\n",
    "A_hc=2.4e-15\n",
    "Omega_all_freq(A_hc,fmax)"
   ]
  }
 ],
 "metadata": {
  "kernelspec": {
   "display_name": "base",
   "language": "python",
   "name": "python3"
  },
  "language_info": {
   "codemirror_mode": {
    "name": "ipython",
    "version": 3
   },
   "file_extension": ".py",
   "mimetype": "text/x-python",
   "name": "python",
   "nbconvert_exporter": "python",
   "pygments_lexer": "ipython3",
   "version": "3.11.7"
  }
 },
 "nbformat": 4,
 "nbformat_minor": 2
}
