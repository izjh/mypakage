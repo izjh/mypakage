{
 "cells": [
  {
   "cell_type": "code",
   "execution_count": 1,
   "metadata": {},
   "outputs": [],
   "source": [
    "import numpy as np\n",
    "from uncertainties import unumpy as unp\n",
    "from uncertainties import ufloat\n",
    "from scipy.integrate import quad"
   ]
  },
  {
   "cell_type": "code",
   "execution_count": 2,
   "metadata": {},
   "outputs": [],
   "source": [
    "def my_quad_uncertainty(func,a,b,args):\n",
    "    result,err_result=quad(lambda x:func(x,args).n,a,b)\n",
    "    uncertainty,err_uncertainty=quad(lambda x:func(x,args).s,a,b)\n",
    "    integarte=ufloat(result,uncertainty)\n",
    "    return integarte\n"
   ]
  }
 ],
 "metadata": {
  "kernelspec": {
   "display_name": "PTA2_env",
   "language": "python",
   "name": "python3"
  },
  "language_info": {
   "codemirror_mode": {
    "name": "ipython",
    "version": 3
   },
   "file_extension": ".py",
   "mimetype": "text/x-python",
   "name": "python",
   "nbconvert_exporter": "python",
   "pygments_lexer": "ipython3",
   "version": "3.11.7"
  }
 },
 "nbformat": 4,
 "nbformat_minor": 2
}
