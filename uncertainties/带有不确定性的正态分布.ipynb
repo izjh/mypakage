{
 "cells": [
  {
   "cell_type": "code",
   "execution_count": 1,
   "metadata": {},
   "outputs": [],
   "source": [
    "import numpy as np\n",
    "from uncertainties import unumpy as unp\n",
    "from uncertainties import ufloat"
   ]
  },
  {
   "cell_type": "code",
   "execution_count": 2,
   "metadata": {},
   "outputs": [],
   "source": [
    "#输入的x需要时ufloat\n",
    "def norm_pdf_uncertain(x, mu, sigma):\n",
    "    part1 = 1 / (sigma * np.sqrt(2 * np.pi))\n",
    "    part2 = unp.exp(-((x - mu) ** 2) / (2 * sigma ** 2))\n",
    "    return part1 * part2"
   ]
  }
 ],
 "metadata": {
  "kernelspec": {
   "display_name": "PTA2_env",
   "language": "python",
   "name": "python3"
  },
  "language_info": {
   "codemirror_mode": {
    "name": "ipython",
    "version": 3
   },
   "file_extension": ".py",
   "mimetype": "text/x-python",
   "name": "python",
   "nbconvert_exporter": "python",
   "pygments_lexer": "ipython3",
   "version": "3.11.7"
  }
 },
 "nbformat": 4,
 "nbformat_minor": 2
}
